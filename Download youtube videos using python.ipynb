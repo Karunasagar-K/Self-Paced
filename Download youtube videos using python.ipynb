{
 "cells": [
  {
   "cell_type": "code",
   "execution_count": 1,
   "id": "319d3492",
   "metadata": {},
   "outputs": [
    {
     "name": "stdout",
     "output_type": "stream",
     "text": [
      "Collecting yt-dlp\n",
      "  Downloading yt_dlp-2023.10.13-py2.py3-none-any.whl (3.1 MB)\n",
      "     ---------------------------------------- 3.1/3.1 MB 4.8 MB/s eta 0:00:00\n",
      "Requirement already satisfied: certifi in d:\\softwares\\anaconda\\files\\lib\\site-packages (from yt-dlp) (2022.12.7)\n",
      "Collecting mutagen\n",
      "  Downloading mutagen-1.47.0-py3-none-any.whl (194 kB)\n",
      "     -------------------------------------- 194.4/194.4 kB 4.0 MB/s eta 0:00:00\n",
      "Collecting websockets\n",
      "  Downloading websockets-12.0-cp310-cp310-win_amd64.whl (124 kB)\n",
      "     -------------------------------------- 125.0/125.0 kB 3.7 MB/s eta 0:00:00\n",
      "Collecting brotli\n",
      "  Downloading Brotli-1.1.0-cp310-cp310-win_amd64.whl (357 kB)\n",
      "     -------------------------------------- 357.3/357.3 kB 3.7 MB/s eta 0:00:00\n",
      "Collecting pycryptodomex\n",
      "  Downloading pycryptodomex-3.19.0-cp35-abi3-win_amd64.whl (1.7 MB)\n",
      "     ---------------------------------------- 1.7/1.7 MB 3.7 MB/s eta 0:00:00\n",
      "Installing collected packages: brotli, websockets, pycryptodomex, mutagen, yt-dlp\n",
      "Successfully installed brotli-1.1.0 mutagen-1.47.0 pycryptodomex-3.19.0 websockets-12.0 yt-dlp-2023.10.13\n",
      "Note: you may need to restart the kernel to use updated packages.\n"
     ]
    }
   ],
   "source": [
    "pip install yt-dlp"
   ]
  },
  {
   "cell_type": "code",
   "execution_count": 10,
   "id": "323b1b10",
   "metadata": {},
   "outputs": [
    {
     "name": "stdout",
     "output_type": "stream",
     "text": [
      "Enter the Video URL: https://www.instagram.com/p/CnwKByUhY15/\n",
      "[Instagram] Extracting URL: https://www.instagram.com/p/CnwKByUhY15/\n",
      "[Instagram] CnwKByUhY15: Setting up session\n",
      "[Instagram] CnwKByUhY15: Downloading JSON metadata\n",
      "[info] CnwKByUhY15: Downloading 1 format(s): 0\n",
      "[download] Destination: Video by jeevan_padmakumar [CnwKByUhY15].mp4\n",
      "[download] 100% of   12.47MiB in 00:00:02 at 5.96MiB/s   \n",
      "Video Dowloaded successfully!\n"
     ]
    }
   ],
   "source": [
    "import yt_dlp\n",
    "\n",
    "#Enter the url for download the video\n",
    "url = input(\"Enter the Video URL: \")\n",
    "\n",
    "s = {}\n",
    "\n",
    "with yt_dlp.YoutubeDL(s) as ydl:\n",
    "    ydl.download([url])\n",
    "    \n",
    "print(\"Video Dowloaded successfully!\")"
   ]
  },
  {
   "cell_type": "code",
   "execution_count": null,
   "id": "fc7d86da",
   "metadata": {},
   "outputs": [],
   "source": []
  }
 ],
 "metadata": {
  "kernelspec": {
   "display_name": "Python 3 (ipykernel)",
   "language": "python",
   "name": "python3"
  },
  "language_info": {
   "codemirror_mode": {
    "name": "ipython",
    "version": 3
   },
   "file_extension": ".py",
   "mimetype": "text/x-python",
   "name": "python",
   "nbconvert_exporter": "python",
   "pygments_lexer": "ipython3",
   "version": "3.10.9"
  }
 },
 "nbformat": 4,
 "nbformat_minor": 5
}
