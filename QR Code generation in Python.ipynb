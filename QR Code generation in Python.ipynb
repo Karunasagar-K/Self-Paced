{
 "cells": [
  {
   "cell_type": "code",
   "execution_count": 2,
   "id": "d27bb74e",
   "metadata": {},
   "outputs": [
    {
     "name": "stdout",
     "output_type": "stream",
     "text": [
      "Collecting qrcode\n",
      "  Downloading qrcode-7.4.2-py3-none-any.whl (46 kB)\n",
      "     ---------------------------------------- 46.2/46.2 kB 1.2 MB/s eta 0:00:00\n",
      "Requirement already satisfied: typing-extensions in d:\\softwares\\anaconda\\files\\lib\\site-packages (from qrcode) (4.4.0)\n",
      "Collecting pypng\n",
      "  Downloading pypng-0.20220715.0-py3-none-any.whl (58 kB)\n",
      "     ---------------------------------------- 58.1/58.1 kB 1.5 MB/s eta 0:00:00\n",
      "Requirement already satisfied: colorama in d:\\softwares\\anaconda\\files\\lib\\site-packages (from qrcode) (0.4.6)\n",
      "Installing collected packages: pypng, qrcode\n",
      "Successfully installed pypng-0.20220715.0 qrcode-7.4.2\n",
      "Note: you may need to restart the kernel to use updated packages.\n"
     ]
    }
   ],
   "source": [
    "pip install qrcode"
   ]
  },
  {
   "cell_type": "code",
   "execution_count": 3,
   "id": "bf81fcc6",
   "metadata": {},
   "outputs": [],
   "source": [
    "import qrcode\n",
    "from PIL import Image"
   ]
  },
  {
   "cell_type": "code",
   "execution_count": 14,
   "id": "cda38241",
   "metadata": {},
   "outputs": [
    {
     "data": {
      "image/png": "[encoded data removed]",
      "text/plain": [
       "<PIL.PngImagePlugin.PngImageFile image mode=1 size=246x246>"
      ]
     },
     "execution_count": 14,
     "metadata": {},
     "output_type": "execute_result"
    }
   ],
   "source": [
    "# The data you want to encode in the QR code\n",
    "data = \"https://www.linkedin.com/in/karunasagar-k-409a73145/\"\n",
    "\n",
    "#Generate the QR code\n",
    "QR = qrcode.QRCode(version=None,\n",
    "    error_correction=0,\n",
    "    box_size=6,\n",
    "    border=4,\n",
    "    mask_pattern=None)\n",
    "QR.add_data(data)\n",
    "QR.make(fit=True)\n",
    "\n",
    "#Create an image from QR code\n",
    "image = QR.make_image(fill='blue',back_color='white')\n",
    "\n",
    "#save the image\n",
    "image.save(\"Linkedin.png\")\n",
    "Image.open(\"Linkedin.png\")"
   ]
  },
  {
   "cell_type": "code",
   "execution_count": null,
   "id": "1d19b1dc",
   "metadata": {},
   "outputs": [],
   "source": []
  }
 ],
 "metadata": {
  "kernelspec": {
   "display_name": "Python 3 (ipykernel)",
   "language": "python",
   "name": "python3"
  },
  "language_info": {
   "codemirror_mode": {
    "name": "ipython",
    "version": 3
   },
   "file_extension": ".py",
   "mimetype": "text/x-python",
   "name": "python",
   "nbconvert_exporter": "python",
   "pygments_lexer": "ipython3",
   "version": "3.10.9"
  }
 },
 "nbformat": 4,
 "nbformat_minor": 5
}
