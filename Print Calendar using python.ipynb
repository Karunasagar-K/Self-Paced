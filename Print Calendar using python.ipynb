{
 "cells": [
  {
   "cell_type": "code",
   "execution_count": 8,
   "id": "7c7066f6",
   "metadata": {},
   "outputs": [
    {
     "name": "stdout",
     "output_type": "stream",
     "text": [
      "Enter the Year:2023\n",
      "                                                  2023\n",
      "\n",
      "      January                     February                     March                       April\n",
      "Mo Tu We Th Fr Sa Su        Mo Tu We Th Fr Sa Su        Mo Tu We Th Fr Sa Su        Mo Tu We Th Fr Sa Su\n",
      "                   1               1  2  3  4  5               1  2  3  4  5                        1  2\n",
      " 2  3  4  5  6  7  8         6  7  8  9 10 11 12         6  7  8  9 10 11 12         3  4  5  6  7  8  9\n",
      " 9 10 11 12 13 14 15        13 14 15 16 17 18 19        13 14 15 16 17 18 19        10 11 12 13 14 15 16\n",
      "16 17 18 19 20 21 22        20 21 22 23 24 25 26        20 21 22 23 24 25 26        17 18 19 20 21 22 23\n",
      "23 24 25 26 27 28 29        27 28                       27 28 29 30 31              24 25 26 27 28 29 30\n",
      "30 31\n",
      "\n",
      "        May                         June                        July                       August\n",
      "Mo Tu We Th Fr Sa Su        Mo Tu We Th Fr Sa Su        Mo Tu We Th Fr Sa Su        Mo Tu We Th Fr Sa Su\n",
      " 1  2  3  4  5  6  7                  1  2  3  4                        1  2            1  2  3  4  5  6\n",
      " 8  9 10 11 12 13 14         5  6  7  8  9 10 11         3  4  5  6  7  8  9         7  8  9 10 11 12 13\n",
      "15 16 17 18 19 20 21        12 13 14 15 16 17 18        10 11 12 13 14 15 16        14 15 16 17 18 19 20\n",
      "22 23 24 25 26 27 28        19 20 21 22 23 24 25        17 18 19 20 21 22 23        21 22 23 24 25 26 27\n",
      "29 30 31                    26 27 28 29 30              24 25 26 27 28 29 30        28 29 30 31\n",
      "                                                        31\n",
      "\n",
      "     September                    October                     November                    December\n",
      "Mo Tu We Th Fr Sa Su        Mo Tu We Th Fr Sa Su        Mo Tu We Th Fr Sa Su        Mo Tu We Th Fr Sa Su\n",
      "             1  2  3                           1               1  2  3  4  5                     1  2  3\n",
      " 4  5  6  7  8  9 10         2  3  4  5  6  7  8         6  7  8  9 10 11 12         4  5  6  7  8  9 10\n",
      "11 12 13 14 15 16 17         9 10 11 12 13 14 15        13 14 15 16 17 18 19        11 12 13 14 15 16 17\n",
      "18 19 20 21 22 23 24        16 17 18 19 20 21 22        20 21 22 23 24 25 26        18 19 20 21 22 23 24\n",
      "25 26 27 28 29 30           23 24 25 26 27 28 29        27 28 29 30                 25 26 27 28 29 30 31\n",
      "                            30 31\n",
      "\n"
     ]
    }
   ],
   "source": [
    "from calendar import*\n",
    "\n",
    "year = int(input('Enter the Year:'))\n",
    "print(calendar(year,2,1,8,4))\n",
    "\n",
    "#2 = 2 characters for days(Mo,Tu,We)\n",
    "#1 = 1 line(row) for each week\n",
    "#8 = 8 rows for each month\n",
    "#4 = 4 columns for all months of the year."
   ]
  },
  {
   "cell_type": "code",
   "execution_count": null,
   "id": "fadfc43a",
   "metadata": {},
   "outputs": [],
   "source": []
  }
 ],
 "metadata": {
  "kernelspec": {
   "display_name": "Python 3 (ipykernel)",
   "language": "python",
   "name": "python3"
  },
  "language_info": {
   "codemirror_mode": {
    "name": "ipython",
    "version": 3
   },
   "file_extension": ".py",
   "mimetype": "text/x-python",
   "name": "python",
   "nbconvert_exporter": "python",
   "pygments_lexer": "ipython3",
   "version": "3.10.9"
  }
 },
 "nbformat": 4,
 "nbformat_minor": 5
}
